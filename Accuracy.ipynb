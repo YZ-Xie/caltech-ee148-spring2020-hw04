{
 "cells": [
  {
   "cell_type": "code",
   "execution_count": null,
   "metadata": {
    "collapsed": true
   },
   "outputs": [],
   "source": [
    "from ImagePreprocessing import *\n",
    "import time\n",
    "from sklearn import metrics\n",
    "\n",
    "# Ignore warnings\n",
    "import warnings\n",
    "warnings.filterwarnings(\"ignore\")\n",
    "\n",
    "plt.ion()   # interactive mode"
   ]
  },
  {
   "cell_type": "code",
   "execution_count": null,
   "metadata": {
    "collapsed": true
   },
   "outputs": [],
   "source": [
    "def get_prediction(model, filepath):\n",
    "    image = io.imread(filepath)\n",
    "    if len(image.shape) < 3:\n",
    "        image = color.gray2rgb(image)\n",
    "    if image.shape[2] == 4:\n",
    "        image = color.rgba2rgb(image)\n",
    "    image = transform.resize(image,(250,250))\n",
    "    mytransform = transforms.Compose([transforms.ToTensor(),transforms.Normalize(mean=[0.485, 0.456, 0.406],\n",
    "                                     std=[0.229, 0.224, 0.225])])\n",
    "    image = mytransform(image)\n",
    "    data = torch.unsqueeze(image,0)\n",
    "    output = model(data.float()) \n",
    "    output = output.detach().numpy()\n",
    "    output = output.flatten()\n",
    "    prediction = np.argmax(output)\n",
    "    return prediction\n"
   ]
  },
  {
   "cell_type": "code",
   "execution_count": null,
   "metadata": {
    "collapsed": true
   },
   "outputs": [],
   "source": [
    "tests_df = pd.read_csv('../data/processed_validate_labels.csv')\n",
    "image_path = '../data/resized_val_images_250'\n",
    "model = initialize_model('resnet', 783, True, use_pretrained=True)\n",
    "model = model.load_state_dict(torch.load('pretrained_resnet_model_epoch30_lr1_batchsize64.pt'))\n",
    "model.float()\n",
    "model.eval()\n",
    "\n",
    "N = len(DataFrame.index)\n",
    "predictions = np.zeros((1,N))\n",
    "truths = np.zeros((1,N))\n",
    "correct = 0\n",
    "\n",
    "for i, row in tests_df.iterrows():\n",
    "    if i % 10000 = 0:\n",
    "        print(i)\n",
    "    image_id = row[\"hashed_id\"]\n",
    "    country = row[\"country\"]\n",
    "    continent = row[\"continent\"]\n",
    "    filename = \"{}.jpg\".format(image_id)\n",
    "    filepath = os.path.join(image_path, filename)\n",
    "\n",
    "    prediction = get_prediction(model, filepath)\n",
    "    truth = row[\"Label\"]\n",
    "    correct += (prediction == truth)\n",
    "    predictions[i] = prediction\n",
    "    truths[i] = truth\n",
    "\n",
    "acc = correct / N\n",
    "f1 = metrics.f1_score(ground_truth, submission_idx_max, average='macro')\n",
    "print(acc)\n",
    "print(f1)"
   ]
  }
 ],
 "metadata": {
  "kernelspec": {
   "display_name": "Python 3",
   "language": "python",
   "name": "python3"
  },
  "language_info": {
   "codemirror_mode": {
    "name": "ipython",
    "version": 3
   },
   "file_extension": ".py",
   "mimetype": "text/x-python",
   "name": "python",
   "nbconvert_exporter": "python",
   "pygments_lexer": "ipython3",
   "version": "3.7.4"
  }
 },
 "nbformat": 4,
 "nbformat_minor": 2
}
